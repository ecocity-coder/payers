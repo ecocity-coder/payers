{
  "cells": [
    {
      "cell_type": "code",
      "execution_count": null,
      "id": "0391da62",
      "metadata": {
        "id": "0391da62"
      },
      "outputs": [],
      "source": [
        "df = pd.read_csv(\"example.csv\")\n"
      ]
    },
    {
      "cell_type": "code",
      "execution_count": null,
      "id": "c4fee0a0",
      "metadata": {
        "id": "c4fee0a0"
      },
      "outputs": [],
      "source": [
        "import psycopg2 as ps\n",
        "import pandas as pd"
      ]
    },
    {
      "cell_type": "code",
      "execution_count": null,
      "id": "ff4eace0",
      "metadata": {
        "id": "ff4eace0",
        "outputId": "047eb36d-90e0-485d-cbe8-ffdf69bb0e45"
      },
      "outputs": [
        {
          "data": {
            "text/html": [
              "<div>\n",
              "<style scoped>\n",
              "    .dataframe tbody tr th:only-of-type {\n",
              "        vertical-align: middle;\n",
              "    }\n",
              "\n",
              "    .dataframe tbody tr th {\n",
              "        vertical-align: top;\n",
              "    }\n",
              "\n",
              "    .dataframe thead th {\n",
              "        text-align: right;\n",
              "    }\n",
              "</style>\n",
              "<table border=\"1\" class=\"dataframe\">\n",
              "  <thead>\n",
              "    <tr style=\"text-align: right;\">\n",
              "      <th></th>\n",
              "      <th>ИД дома</th>\n",
              "      <th>ИД подъезда</th>\n",
              "      <th>ИД квартиры</th>\n",
              "      <th>Лицевой счет (ЛС)</th>\n",
              "      <th>Услуга</th>\n",
              "      <th>Ставка тарифа</th>\n",
              "      <th>Статус услуги</th>\n",
              "      <th>Дата начала услуги</th>\n",
              "    </tr>\n",
              "  </thead>\n",
              "  <tbody>\n",
              "    <tr>\n",
              "      <th>0</th>\n",
              "      <td>100</td>\n",
              "      <td>1624</td>\n",
              "      <td>43036</td>\n",
              "      <td>43036</td>\n",
              "      <td>ТО МКД</td>\n",
              "      <td>5.2</td>\n",
              "      <td>Активна</td>\n",
              "      <td>23.01.2008</td>\n",
              "    </tr>\n",
              "    <tr>\n",
              "      <th>1</th>\n",
              "      <td>100</td>\n",
              "      <td>1624</td>\n",
              "      <td>43037</td>\n",
              "      <td>43037</td>\n",
              "      <td>ТО МКД</td>\n",
              "      <td>5.4</td>\n",
              "      <td>Активна</td>\n",
              "      <td>23.01.2008</td>\n",
              "    </tr>\n",
              "    <tr>\n",
              "      <th>2</th>\n",
              "      <td>100</td>\n",
              "      <td>1624</td>\n",
              "      <td>43038</td>\n",
              "      <td>43038</td>\n",
              "      <td>ТО МКД</td>\n",
              "      <td>5.2</td>\n",
              "      <td>Активна</td>\n",
              "      <td>23.01.2008</td>\n",
              "    </tr>\n",
              "    <tr>\n",
              "      <th>3</th>\n",
              "      <td>100</td>\n",
              "      <td>1624</td>\n",
              "      <td>43039</td>\n",
              "      <td>43039</td>\n",
              "      <td>ТО МКД</td>\n",
              "      <td>5.2</td>\n",
              "      <td>Активна</td>\n",
              "      <td>23.01.2008</td>\n",
              "    </tr>\n",
              "    <tr>\n",
              "      <th>4</th>\n",
              "      <td>100</td>\n",
              "      <td>1624</td>\n",
              "      <td>43040</td>\n",
              "      <td>43040</td>\n",
              "      <td>ТО МКД</td>\n",
              "      <td>5.2</td>\n",
              "      <td>Активна</td>\n",
              "      <td>23.01.2008</td>\n",
              "    </tr>\n",
              "  </tbody>\n",
              "</table>\n",
              "</div>"
            ],
            "text/plain": [
              "   ИД дома  ИД подъезда  ИД квартиры  Лицевой счет (ЛС)  Услуга  \\\n",
              "0      100         1624        43036              43036  ТО МКД   \n",
              "1      100         1624        43037              43037  ТО МКД   \n",
              "2      100         1624        43038              43038  ТО МКД   \n",
              "3      100         1624        43039              43039  ТО МКД   \n",
              "4      100         1624        43040              43040  ТО МКД   \n",
              "\n",
              "   Ставка тарифа Статус услуги Дата начала услуги  \n",
              "0            5.2       Активна         23.01.2008  \n",
              "1            5.4       Активна         23.01.2008  \n",
              "2            5.2       Активна         23.01.2008  \n",
              "3            5.2       Активна         23.01.2008  \n",
              "4            5.2       Активна         23.01.2008  "
            ]
          },
          "execution_count": 3,
          "metadata": {},
          "output_type": "execute_result"
        }
      ],
      "source": [
        "df = pd.read_csv(\"C:/Users/admin/Desktop/тест/Tablica_LS.csv\")\n",
        "df.head()"
      ]
    },
    {
      "cell_type": "markdown",
      "id": "68d7306e",
      "metadata": {
        "id": "68d7306e"
      },
      "source": [
        "загрузим и изучим таблицу"
      ]
    },
    {
      "cell_type": "code",
      "execution_count": null,
      "id": "35ad7d5f",
      "metadata": {
        "id": "35ad7d5f",
        "outputId": "0fa36b3f-0108-4cdc-b4a9-2bde2e535c79"
      },
      "outputs": [
        {
          "name": "stdout",
          "output_type": "stream",
          "text": [
            "<class 'pandas.core.frame.DataFrame'>\n",
            "RangeIndex: 49543 entries, 0 to 49542\n",
            "Data columns (total 8 columns):\n",
            " #   Column              Non-Null Count  Dtype  \n",
            "---  ------              --------------  -----  \n",
            " 0   ИД дома             49543 non-null  int64  \n",
            " 1   ИД подъезда         49543 non-null  int64  \n",
            " 2   ИД квартиры         49543 non-null  int64  \n",
            " 3   Лицевой счет (ЛС)   49543 non-null  int64  \n",
            " 4   Услуга              49543 non-null  object \n",
            " 5   Ставка тарифа       49316 non-null  float64\n",
            " 6   Статус услуги       49543 non-null  object \n",
            " 7   Дата начала услуги  49543 non-null  object \n",
            "dtypes: float64(1), int64(4), object(3)\n",
            "memory usage: 3.0+ MB\n"
          ]
        }
      ],
      "source": [
        "df.info()"
      ]
    },
    {
      "cell_type": "markdown",
      "id": "dec97341",
      "metadata": {
        "id": "dec97341"
      },
      "source": [
        "проверим таблицу на дубликаты"
      ]
    },
    {
      "cell_type": "code",
      "execution_count": null,
      "id": "27214cfd",
      "metadata": {
        "id": "27214cfd",
        "outputId": "ac8ff742-9316-4819-edda-f3bfbeb92292"
      },
      "outputs": [
        {
          "data": {
            "text/plain": [
              "0         False\n",
              "1         False\n",
              "2         False\n",
              "3         False\n",
              "4         False\n",
              "          ...  \n",
              "356841    False\n",
              "356842    False\n",
              "356843    False\n",
              "356844    False\n",
              "356845    False\n",
              "Length: 356846, dtype: bool"
            ]
          },
          "execution_count": 22,
          "metadata": {},
          "output_type": "execute_result"
        }
      ],
      "source": [
        "df.duplicated(keep=False)"
      ]
    },
    {
      "cell_type": "markdown",
      "id": "12ab5eb0",
      "metadata": {
        "id": "12ab5eb0"
      },
      "source": [
        "дубликатов не обнаружено. Однако данные в столбце \"дата начала услуги\" нужно привести в удобный формат"
      ]
    },
    {
      "cell_type": "code",
      "execution_count": null,
      "id": "30530950",
      "metadata": {
        "id": "30530950"
      },
      "outputs": [],
      "source": [
        "df['Дата начала услуги'] = pd.to_datetime(df['Дата начала услуги'],format='%d.%m.%Y')"
      ]
    },
    {
      "cell_type": "code",
      "execution_count": null,
      "id": "bbe36482",
      "metadata": {
        "id": "bbe36482",
        "outputId": "3a5dd7d8-9896-4001-8a20-35f1f9f54df4"
      },
      "outputs": [
        {
          "name": "stdout",
          "output_type": "stream",
          "text": [
            "<class 'pandas.core.frame.DataFrame'>\n",
            "RangeIndex: 49543 entries, 0 to 49542\n",
            "Data columns (total 8 columns):\n",
            " #   Column              Non-Null Count  Dtype         \n",
            "---  ------              --------------  -----         \n",
            " 0   ИД дома             49543 non-null  int64         \n",
            " 1   ИД подъезда         49543 non-null  int64         \n",
            " 2   ИД квартиры         49543 non-null  int64         \n",
            " 3   Лицевой счет (ЛС)   49543 non-null  int64         \n",
            " 4   Услуга              49543 non-null  object        \n",
            " 5   Ставка тарифа       49316 non-null  float64       \n",
            " 6   Статус услуги       49543 non-null  object        \n",
            " 7   Дата начала услуги  49543 non-null  datetime64[ns]\n",
            "dtypes: datetime64[ns](1), float64(1), int64(4), object(2)\n",
            "memory usage: 3.0+ MB\n"
          ]
        }
      ],
      "source": [
        "df.info()"
      ]
    },
    {
      "cell_type": "code",
      "execution_count": null,
      "id": "a927fb2a",
      "metadata": {
        "id": "a927fb2a"
      },
      "outputs": [],
      "source": [
        "df.to_csv('table_LS_new_6.csv',date_format='%d.%m.%Y',index=False)"
      ]
    },
    {
      "cell_type": "markdown",
      "id": "05c83a31",
      "metadata": {
        "id": "05c83a31"
      },
      "source": [
        "посмотрим на таблицу платежей"
      ]
    },
    {
      "cell_type": "code",
      "execution_count": null,
      "id": "96aaf841",
      "metadata": {
        "id": "96aaf841",
        "outputId": "3bcf3e25-2c5c-4dea-a619-30e9e2b54aa9"
      },
      "outputs": [
        {
          "data": {
            "text/html": [
              "<div>\n",
              "<style scoped>\n",
              "    .dataframe tbody tr th:only-of-type {\n",
              "        vertical-align: middle;\n",
              "    }\n",
              "\n",
              "    .dataframe tbody tr th {\n",
              "        vertical-align: top;\n",
              "    }\n",
              "\n",
              "    .dataframe thead th {\n",
              "        text-align: right;\n",
              "    }\n",
              "</style>\n",
              "<table border=\"1\" class=\"dataframe\">\n",
              "  <thead>\n",
              "    <tr style=\"text-align: right;\">\n",
              "      <th></th>\n",
              "      <th>ЛС</th>\n",
              "      <th>Сумма платежа</th>\n",
              "      <th>Дата загрузки</th>\n",
              "      <th>Источник платежа</th>\n",
              "      <th>способ оплаты</th>\n",
              "      <th>Комментарий к платежу</th>\n",
              "    </tr>\n",
              "  </thead>\n",
              "  <tbody>\n",
              "    <tr>\n",
              "      <th>0</th>\n",
              "      <td>1</td>\n",
              "      <td>4,8</td>\n",
              "      <td>4/16/2019</td>\n",
              "      <td>Ручной ввод</td>\n",
              "      <td>Офис</td>\n",
              "      <td>NaN</td>\n",
              "    </tr>\n",
              "    <tr>\n",
              "      <th>1</th>\n",
              "      <td>1</td>\n",
              "      <td>14,4</td>\n",
              "      <td>10/17/2018</td>\n",
              "      <td>Ввод из реестра</td>\n",
              "      <td>Сбербанк России</td>\n",
              "      <td>NaN</td>\n",
              "    </tr>\n",
              "    <tr>\n",
              "      <th>2</th>\n",
              "      <td>1</td>\n",
              "      <td>14,4</td>\n",
              "      <td>1/21/2019</td>\n",
              "      <td>Ввод из реестра</td>\n",
              "      <td>КС банк</td>\n",
              "      <td>NaN</td>\n",
              "    </tr>\n",
              "    <tr>\n",
              "      <th>3</th>\n",
              "      <td>1</td>\n",
              "      <td>32,4</td>\n",
              "      <td>12/11/2020</td>\n",
              "      <td>Ввод из реестра</td>\n",
              "      <td>КС банк</td>\n",
              "      <td>NaN</td>\n",
              "    </tr>\n",
              "    <tr>\n",
              "      <th>4</th>\n",
              "      <td>1</td>\n",
              "      <td>56,4</td>\n",
              "      <td>2/9/2018</td>\n",
              "      <td>Ввод из реестра</td>\n",
              "      <td>КС банк</td>\n",
              "      <td>NaN</td>\n",
              "    </tr>\n",
              "  </tbody>\n",
              "</table>\n",
              "</div>"
            ],
            "text/plain": [
              "   ЛС Сумма платежа Дата загрузки Источник платежа    способ оплаты  \\\n",
              "0   1           4,8     4/16/2019      Ручной ввод             Офис   \n",
              "1   1          14,4    10/17/2018  Ввод из реестра  Сбербанк России   \n",
              "2   1          14,4     1/21/2019  Ввод из реестра          КС банк   \n",
              "3   1          32,4    12/11/2020  Ввод из реестра          КС банк   \n",
              "4   1          56,4      2/9/2018  Ввод из реестра          КС банк   \n",
              "\n",
              "  Комментарий к платежу  \n",
              "0                   NaN  \n",
              "1                   NaN  \n",
              "2                   NaN  \n",
              "3                   NaN  \n",
              "4                   NaN  "
            ]
          },
          "execution_count": 44,
          "metadata": {},
          "output_type": "execute_result"
        }
      ],
      "source": [
        "df = pd.read_csv(\"C:/Users/admin/Desktop/тест/Tablica_plat.csv\")\n",
        "df.head()"
      ]
    },
    {
      "cell_type": "code",
      "execution_count": null,
      "id": "8688f858",
      "metadata": {
        "id": "8688f858",
        "outputId": "1ff7f027-e0f9-4631-cf5f-91bad9afbbe7"
      },
      "outputs": [
        {
          "name": "stdout",
          "output_type": "stream",
          "text": [
            "<class 'pandas.core.frame.DataFrame'>\n",
            "RangeIndex: 356846 entries, 0 to 356845\n",
            "Data columns (total 6 columns):\n",
            " #   Column                 Non-Null Count   Dtype \n",
            "---  ------                 --------------   ----- \n",
            " 0   ЛС                     356846 non-null  int64 \n",
            " 1   Сумма платежа          356846 non-null  object\n",
            " 2   Дата загрузки          356846 non-null  object\n",
            " 3   Источник платежа       356846 non-null  object\n",
            " 4   способ оплаты          356846 non-null  object\n",
            " 5   Комментарий к платежу  5876 non-null    object\n",
            "dtypes: int64(1), object(5)\n",
            "memory usage: 16.3+ MB\n"
          ]
        }
      ],
      "source": [
        "df.info()"
      ]
    },
    {
      "cell_type": "code",
      "execution_count": null,
      "id": "2348353d",
      "metadata": {
        "id": "2348353d"
      },
      "outputs": [],
      "source": []
    },
    {
      "cell_type": "markdown",
      "id": "26bdadbe",
      "metadata": {
        "id": "26bdadbe"
      },
      "source": [
        "данные в \"сумме платежа\" и в \"дате загрузки\" нужно привести к удобному формату"
      ]
    },
    {
      "cell_type": "markdown",
      "id": "2615d587",
      "metadata": {
        "id": "2615d587"
      },
      "source": [
        "но предварительно нужно именить запятую на точку в \"Сумме платежа\""
      ]
    },
    {
      "cell_type": "code",
      "execution_count": null,
      "id": "dc70ead4",
      "metadata": {
        "id": "dc70ead4"
      },
      "outputs": [],
      "source": [
        "df['Сумма платежа'] = df['Сумма платежа'].str.replace(',', '.')"
      ]
    },
    {
      "cell_type": "code",
      "execution_count": null,
      "id": "14fc3984",
      "metadata": {
        "id": "14fc3984"
      },
      "outputs": [],
      "source": [
        "df['Сумма платежа'] = pd.to_numeric(df['Сумма платежа'])"
      ]
    },
    {
      "cell_type": "code",
      "execution_count": null,
      "id": "f083ac8a",
      "metadata": {
        "id": "f083ac8a"
      },
      "outputs": [],
      "source": [
        "df['Дата загрузки'] = pd.to_datetime(df['Дата загрузки'],  format='%m/%d/%Y')"
      ]
    },
    {
      "cell_type": "code",
      "execution_count": null,
      "id": "72d64d9f",
      "metadata": {
        "id": "72d64d9f",
        "outputId": "b44487f7-9464-4ae4-cde4-06c52589d72d"
      },
      "outputs": [
        {
          "name": "stdout",
          "output_type": "stream",
          "text": [
            "<class 'pandas.core.frame.DataFrame'>\n",
            "RangeIndex: 356846 entries, 0 to 356845\n",
            "Data columns (total 6 columns):\n",
            " #   Column                 Non-Null Count   Dtype         \n",
            "---  ------                 --------------   -----         \n",
            " 0   ЛС                     356846 non-null  int64         \n",
            " 1   Сумма платежа          356846 non-null  float64       \n",
            " 2   Дата загрузки          356846 non-null  datetime64[ns]\n",
            " 3   Источник платежа       356846 non-null  object        \n",
            " 4   способ оплаты          356846 non-null  object        \n",
            " 5   Комментарий к платежу  5876 non-null    object        \n",
            "dtypes: datetime64[ns](1), float64(1), int64(1), object(3)\n",
            "memory usage: 16.3+ MB\n"
          ]
        }
      ],
      "source": [
        "df.info()"
      ]
    },
    {
      "cell_type": "code",
      "execution_count": null,
      "id": "2206a18d",
      "metadata": {
        "id": "2206a18d"
      },
      "outputs": [],
      "source": [
        "Рассчитаем для каждого ЛС сумму всех поступивших платежей с учетом возвратов, но исключая списания"
      ]
    },
    {
      "cell_type": "code",
      "execution_count": null,
      "id": "8e32fe14",
      "metadata": {
        "id": "8e32fe14",
        "outputId": "9ce25cc6-6f71-4498-d445-e602d797054c"
      },
      "outputs": [
        {
          "name": "stdout",
          "output_type": "stream",
          "text": [
            "ЛС\n",
            "1         182.400\n",
            "2        2408.002\n",
            "3         230.400\n",
            "4         236.400\n",
            "5        1306.300\n",
            "           ...   \n",
            "49146      62.400\n",
            "49148      31.200\n",
            "49149      31.200\n",
            "49150      25.810\n",
            "49151      65.630\n",
            "Name: Сумма платежа, Length: 41422, dtype: float64\n"
          ]
        }
      ],
      "source": [
        "sum_by_account = df[df['Сумма платежа'] > 0].groupby('ЛС')['Сумма платежа'].sum()\n",
        "print(sum_by_account)"
      ]
    },
    {
      "cell_type": "markdown",
      "id": "6de30533",
      "metadata": {
        "id": "6de30533"
      },
      "source": [
        "Рассчитаем для каждого ЛС плановую выручку с учетом дат начала услуг на ЛС и ставки тарифа"
      ]
    },
    {
      "cell_type": "code",
      "execution_count": null,
      "id": "638575da",
      "metadata": {
        "id": "638575da"
      },
      "outputs": [],
      "source": [
        "new_table = pd.read_csv('C:/Users/admin/table_LS_new_6.csv')"
      ]
    },
    {
      "cell_type": "code",
      "execution_count": null,
      "id": "a7f2b0c2",
      "metadata": {
        "id": "a7f2b0c2",
        "outputId": "b24afd0c-fd5a-4f07-fd30-1af50c58e8da"
      },
      "outputs": [
        {
          "data": {
            "text/html": [
              "<div>\n",
              "<style scoped>\n",
              "    .dataframe tbody tr th:only-of-type {\n",
              "        vertical-align: middle;\n",
              "    }\n",
              "\n",
              "    .dataframe tbody tr th {\n",
              "        vertical-align: top;\n",
              "    }\n",
              "\n",
              "    .dataframe thead th {\n",
              "        text-align: right;\n",
              "    }\n",
              "</style>\n",
              "<table border=\"1\" class=\"dataframe\">\n",
              "  <thead>\n",
              "    <tr style=\"text-align: right;\">\n",
              "      <th></th>\n",
              "      <th>ИД дома</th>\n",
              "      <th>ИД подъезда</th>\n",
              "      <th>ИД квартиры</th>\n",
              "      <th>Лицевой счет (ЛС)</th>\n",
              "      <th>Услуга</th>\n",
              "      <th>Ставка тарифа</th>\n",
              "      <th>Статус услуги</th>\n",
              "      <th>Дата начала услуги</th>\n",
              "    </tr>\n",
              "  </thead>\n",
              "  <tbody>\n",
              "    <tr>\n",
              "      <th>0</th>\n",
              "      <td>100</td>\n",
              "      <td>1624</td>\n",
              "      <td>43036</td>\n",
              "      <td>43036</td>\n",
              "      <td>ТО МКД</td>\n",
              "      <td>5.2</td>\n",
              "      <td>Активна</td>\n",
              "      <td>23.01.2008</td>\n",
              "    </tr>\n",
              "    <tr>\n",
              "      <th>1</th>\n",
              "      <td>100</td>\n",
              "      <td>1624</td>\n",
              "      <td>43037</td>\n",
              "      <td>43037</td>\n",
              "      <td>ТО МКД</td>\n",
              "      <td>5.4</td>\n",
              "      <td>Активна</td>\n",
              "      <td>23.01.2008</td>\n",
              "    </tr>\n",
              "    <tr>\n",
              "      <th>2</th>\n",
              "      <td>100</td>\n",
              "      <td>1624</td>\n",
              "      <td>43038</td>\n",
              "      <td>43038</td>\n",
              "      <td>ТО МКД</td>\n",
              "      <td>5.2</td>\n",
              "      <td>Активна</td>\n",
              "      <td>23.01.2008</td>\n",
              "    </tr>\n",
              "    <tr>\n",
              "      <th>3</th>\n",
              "      <td>100</td>\n",
              "      <td>1624</td>\n",
              "      <td>43039</td>\n",
              "      <td>43039</td>\n",
              "      <td>ТО МКД</td>\n",
              "      <td>5.2</td>\n",
              "      <td>Активна</td>\n",
              "      <td>23.01.2008</td>\n",
              "    </tr>\n",
              "    <tr>\n",
              "      <th>4</th>\n",
              "      <td>100</td>\n",
              "      <td>1624</td>\n",
              "      <td>43040</td>\n",
              "      <td>43040</td>\n",
              "      <td>ТО МКД</td>\n",
              "      <td>5.2</td>\n",
              "      <td>Активна</td>\n",
              "      <td>23.01.2008</td>\n",
              "    </tr>\n",
              "  </tbody>\n",
              "</table>\n",
              "</div>"
            ],
            "text/plain": [
              "   ИД дома  ИД подъезда  ИД квартиры  Лицевой счет (ЛС)  Услуга  \\\n",
              "0      100         1624        43036              43036  ТО МКД   \n",
              "1      100         1624        43037              43037  ТО МКД   \n",
              "2      100         1624        43038              43038  ТО МКД   \n",
              "3      100         1624        43039              43039  ТО МКД   \n",
              "4      100         1624        43040              43040  ТО МКД   \n",
              "\n",
              "   Ставка тарифа Статус услуги Дата начала услуги  \n",
              "0            5.2       Активна         23.01.2008  \n",
              "1            5.4       Активна         23.01.2008  \n",
              "2            5.2       Активна         23.01.2008  \n",
              "3            5.2       Активна         23.01.2008  \n",
              "4            5.2       Активна         23.01.2008  "
            ]
          },
          "execution_count": 9,
          "metadata": {},
          "output_type": "execute_result"
        }
      ],
      "source": [
        "new_table.head()"
      ]
    },
    {
      "cell_type": "code",
      "execution_count": null,
      "id": "b6c1e4f0",
      "metadata": {
        "id": "b6c1e4f0"
      },
      "outputs": [],
      "source": [
        "import datetime\n",
        "current_date = datetime.datetime.now() # получить текущую дату и время\n",
        "\n",
        "df['Плановая выручка'] = df.apply(lambda row: row['Ставка тарифа'] * (current_date - row['Дата начала услуги']).days, axis=1)"
      ]
    },
    {
      "cell_type": "code",
      "execution_count": null,
      "id": "e06a31a9",
      "metadata": {
        "id": "e06a31a9",
        "outputId": "7ca85853-c1da-4bae-9fd6-6747d9faea0d"
      },
      "outputs": [
        {
          "name": "stdout",
          "output_type": "stream",
          "text": [
            "<class 'pandas.core.frame.DataFrame'>\n",
            "RangeIndex: 49543 entries, 0 to 49542\n",
            "Data columns (total 9 columns):\n",
            " #   Column              Non-Null Count  Dtype         \n",
            "---  ------              --------------  -----         \n",
            " 0   ИД дома             49543 non-null  int64         \n",
            " 1   ИД подъезда         49543 non-null  int64         \n",
            " 2   ИД квартиры         49543 non-null  int64         \n",
            " 3   Лицевой счет (ЛС)   49543 non-null  int64         \n",
            " 4   Услуга              49543 non-null  object        \n",
            " 5   Ставка тарифа       49316 non-null  float64       \n",
            " 6   Статус услуги       49543 non-null  object        \n",
            " 7   Дата начала услуги  49543 non-null  datetime64[ns]\n",
            " 8   Плановая выручка    49316 non-null  float64       \n",
            "dtypes: datetime64[ns](1), float64(2), int64(4), object(2)\n",
            "memory usage: 3.4+ MB\n"
          ]
        }
      ],
      "source": [
        "df.info()"
      ]
    },
    {
      "cell_type": "code",
      "execution_count": null,
      "id": "ea6abe1f",
      "metadata": {
        "id": "ea6abe1f",
        "outputId": "3d9782b5-4538-43d6-abdc-df61213ce62e"
      },
      "outputs": [
        {
          "data": {
            "text/html": [
              "<div>\n",
              "<style scoped>\n",
              "    .dataframe tbody tr th:only-of-type {\n",
              "        vertical-align: middle;\n",
              "    }\n",
              "\n",
              "    .dataframe tbody tr th {\n",
              "        vertical-align: top;\n",
              "    }\n",
              "\n",
              "    .dataframe thead th {\n",
              "        text-align: right;\n",
              "    }\n",
              "</style>\n",
              "<table border=\"1\" class=\"dataframe\">\n",
              "  <thead>\n",
              "    <tr style=\"text-align: right;\">\n",
              "      <th></th>\n",
              "      <th>ИД дома</th>\n",
              "      <th>ИД подъезда</th>\n",
              "      <th>ИД квартиры</th>\n",
              "      <th>Лицевой счет (ЛС)</th>\n",
              "      <th>Услуга</th>\n",
              "      <th>Ставка тарифа</th>\n",
              "      <th>Статус услуги</th>\n",
              "      <th>Дата начала услуги</th>\n",
              "      <th>Плановая выручка</th>\n",
              "    </tr>\n",
              "  </thead>\n",
              "  <tbody>\n",
              "    <tr>\n",
              "      <th>0</th>\n",
              "      <td>100</td>\n",
              "      <td>1624</td>\n",
              "      <td>43036</td>\n",
              "      <td>43036</td>\n",
              "      <td>ТО МКД</td>\n",
              "      <td>5.2</td>\n",
              "      <td>Активна</td>\n",
              "      <td>2008-01-23</td>\n",
              "      <td>30253.6</td>\n",
              "    </tr>\n",
              "    <tr>\n",
              "      <th>1</th>\n",
              "      <td>100</td>\n",
              "      <td>1624</td>\n",
              "      <td>43037</td>\n",
              "      <td>43037</td>\n",
              "      <td>ТО МКД</td>\n",
              "      <td>5.4</td>\n",
              "      <td>Активна</td>\n",
              "      <td>2008-01-23</td>\n",
              "      <td>31417.2</td>\n",
              "    </tr>\n",
              "    <tr>\n",
              "      <th>2</th>\n",
              "      <td>100</td>\n",
              "      <td>1624</td>\n",
              "      <td>43038</td>\n",
              "      <td>43038</td>\n",
              "      <td>ТО МКД</td>\n",
              "      <td>5.2</td>\n",
              "      <td>Активна</td>\n",
              "      <td>2008-01-23</td>\n",
              "      <td>30253.6</td>\n",
              "    </tr>\n",
              "    <tr>\n",
              "      <th>3</th>\n",
              "      <td>100</td>\n",
              "      <td>1624</td>\n",
              "      <td>43039</td>\n",
              "      <td>43039</td>\n",
              "      <td>ТО МКД</td>\n",
              "      <td>5.2</td>\n",
              "      <td>Активна</td>\n",
              "      <td>2008-01-23</td>\n",
              "      <td>30253.6</td>\n",
              "    </tr>\n",
              "    <tr>\n",
              "      <th>4</th>\n",
              "      <td>100</td>\n",
              "      <td>1624</td>\n",
              "      <td>43040</td>\n",
              "      <td>43040</td>\n",
              "      <td>ТО МКД</td>\n",
              "      <td>5.2</td>\n",
              "      <td>Активна</td>\n",
              "      <td>2008-01-23</td>\n",
              "      <td>30253.6</td>\n",
              "    </tr>\n",
              "  </tbody>\n",
              "</table>\n",
              "</div>"
            ],
            "text/plain": [
              "   ИД дома  ИД подъезда  ИД квартиры  Лицевой счет (ЛС)  Услуга  \\\n",
              "0      100         1624        43036              43036  ТО МКД   \n",
              "1      100         1624        43037              43037  ТО МКД   \n",
              "2      100         1624        43038              43038  ТО МКД   \n",
              "3      100         1624        43039              43039  ТО МКД   \n",
              "4      100         1624        43040              43040  ТО МКД   \n",
              "\n",
              "   Ставка тарифа Статус услуги Дата начала услуги  Плановая выручка  \n",
              "0            5.2       Активна         2008-01-23           30253.6  \n",
              "1            5.4       Активна         2008-01-23           31417.2  \n",
              "2            5.2       Активна         2008-01-23           30253.6  \n",
              "3            5.2       Активна         2008-01-23           30253.6  \n",
              "4            5.2       Активна         2008-01-23           30253.6  "
            ]
          },
          "execution_count": 20,
          "metadata": {},
          "output_type": "execute_result"
        }
      ],
      "source": [
        "df.head()\n"
      ]
    },
    {
      "cell_type": "code",
      "execution_count": null,
      "id": "0c833006",
      "metadata": {
        "id": "0c833006"
      },
      "outputs": [],
      "source": [
        "df.to_csv('table_LS_new_7.csv',index=False)"
      ]
    },
    {
      "cell_type": "code",
      "execution_count": null,
      "id": "2ba8421f",
      "metadata": {
        "id": "2ba8421f"
      },
      "outputs": [],
      "source": [
        "df = pd.read_csv('C:/Users/admin/table_LS_new_7.csv')"
      ]
    },
    {
      "cell_type": "code",
      "execution_count": null,
      "id": "e801b090",
      "metadata": {
        "id": "e801b090",
        "outputId": "b01866e8-bb57-4794-bbd7-4982834e067f"
      },
      "outputs": [
        {
          "data": {
            "text/html": [
              "<div>\n",
              "<style scoped>\n",
              "    .dataframe tbody tr th:only-of-type {\n",
              "        vertical-align: middle;\n",
              "    }\n",
              "\n",
              "    .dataframe tbody tr th {\n",
              "        vertical-align: top;\n",
              "    }\n",
              "\n",
              "    .dataframe thead th {\n",
              "        text-align: right;\n",
              "    }\n",
              "</style>\n",
              "<table border=\"1\" class=\"dataframe\">\n",
              "  <thead>\n",
              "    <tr style=\"text-align: right;\">\n",
              "      <th></th>\n",
              "      <th>ИД дома</th>\n",
              "      <th>ИД подъезда</th>\n",
              "      <th>ИД квартиры</th>\n",
              "      <th>Лицевой счет (ЛС)</th>\n",
              "      <th>Услуга</th>\n",
              "      <th>Ставка тарифа</th>\n",
              "      <th>Статус услуги</th>\n",
              "      <th>Дата начала услуги</th>\n",
              "      <th>Плановая выручка</th>\n",
              "    </tr>\n",
              "  </thead>\n",
              "  <tbody>\n",
              "    <tr>\n",
              "      <th>0</th>\n",
              "      <td>100</td>\n",
              "      <td>1624</td>\n",
              "      <td>43036</td>\n",
              "      <td>43036</td>\n",
              "      <td>ТО МКД</td>\n",
              "      <td>5.2</td>\n",
              "      <td>Активна</td>\n",
              "      <td>2008-01-23</td>\n",
              "      <td>30253.6</td>\n",
              "    </tr>\n",
              "    <tr>\n",
              "      <th>1</th>\n",
              "      <td>100</td>\n",
              "      <td>1624</td>\n",
              "      <td>43037</td>\n",
              "      <td>43037</td>\n",
              "      <td>ТО МКД</td>\n",
              "      <td>5.4</td>\n",
              "      <td>Активна</td>\n",
              "      <td>2008-01-23</td>\n",
              "      <td>31417.2</td>\n",
              "    </tr>\n",
              "    <tr>\n",
              "      <th>2</th>\n",
              "      <td>100</td>\n",
              "      <td>1624</td>\n",
              "      <td>43038</td>\n",
              "      <td>43038</td>\n",
              "      <td>ТО МКД</td>\n",
              "      <td>5.2</td>\n",
              "      <td>Активна</td>\n",
              "      <td>2008-01-23</td>\n",
              "      <td>30253.6</td>\n",
              "    </tr>\n",
              "    <tr>\n",
              "      <th>3</th>\n",
              "      <td>100</td>\n",
              "      <td>1624</td>\n",
              "      <td>43039</td>\n",
              "      <td>43039</td>\n",
              "      <td>ТО МКД</td>\n",
              "      <td>5.2</td>\n",
              "      <td>Активна</td>\n",
              "      <td>2008-01-23</td>\n",
              "      <td>30253.6</td>\n",
              "    </tr>\n",
              "    <tr>\n",
              "      <th>4</th>\n",
              "      <td>100</td>\n",
              "      <td>1624</td>\n",
              "      <td>43040</td>\n",
              "      <td>43040</td>\n",
              "      <td>ТО МКД</td>\n",
              "      <td>5.2</td>\n",
              "      <td>Активна</td>\n",
              "      <td>2008-01-23</td>\n",
              "      <td>30253.6</td>\n",
              "    </tr>\n",
              "  </tbody>\n",
              "</table>\n",
              "</div>"
            ],
            "text/plain": [
              "   ИД дома  ИД подъезда  ИД квартиры  Лицевой счет (ЛС)  Услуга  \\\n",
              "0      100         1624        43036              43036  ТО МКД   \n",
              "1      100         1624        43037              43037  ТО МКД   \n",
              "2      100         1624        43038              43038  ТО МКД   \n",
              "3      100         1624        43039              43039  ТО МКД   \n",
              "4      100         1624        43040              43040  ТО МКД   \n",
              "\n",
              "   Ставка тарифа Статус услуги Дата начала услуги  Плановая выручка  \n",
              "0            5.2       Активна         2008-01-23           30253.6  \n",
              "1            5.4       Активна         2008-01-23           31417.2  \n",
              "2            5.2       Активна         2008-01-23           30253.6  \n",
              "3            5.2       Активна         2008-01-23           30253.6  \n",
              "4            5.2       Активна         2008-01-23           30253.6  "
            ]
          },
          "execution_count": 23,
          "metadata": {},
          "output_type": "execute_result"
        }
      ],
      "source": [
        "df.head()"
      ]
    },
    {
      "cell_type": "markdown",
      "id": "4177da1c",
      "metadata": {
        "id": "4177da1c"
      },
      "source": [
        "Рассчитаем для каждого ЛС сальдо: плановая выручка (п. 3) минус сумма платежей (из п. 2).    "
      ]
    },
    {
      "cell_type": "markdown",
      "id": "e4ba29fc",
      "metadata": {
        "id": "e4ba29fc"
      },
      "source": [
        "Предваритаельно нужно привести данные в столбцах к числовому формату"
      ]
    },
    {
      "cell_type": "code",
      "execution_count": null,
      "id": "8030fa5f",
      "metadata": {
        "id": "8030fa5f"
      },
      "outputs": [],
      "source": [
        "df_plat = pd.read_csv(\"C:/Users/admin/Desktop/тест/Tablica_plat.csv\")\n",
        "df_ls_new = pd.read_csv('C:/Users/admin/table_LS_new_7.csv')\n",
        "df_plat['Сумма платежа'] = pd.to_numeric(df_plat['Сумма платежа'], errors='coerce')\n",
        "df_ls_new['Плановая выручка'] = pd.to_numeric(df_ls_new['Плановая выручка'], errors='coerce')"
      ]
    },
    {
      "cell_type": "markdown",
      "id": "87acef11",
      "metadata": {
        "id": "87acef11"
      },
      "source": [
        "Теперь можно рассчитать сальдо"
      ]
    },
    {
      "cell_type": "code",
      "execution_count": null,
      "id": "51e7de0e",
      "metadata": {
        "id": "51e7de0e"
      },
      "outputs": [],
      "source": [
        "df_merged = pd.merge(df_ls_new, df_plat, left_on='Лицевой счет (ЛС)', right_on='ЛС', how='left')\n",
        "\n",
        "df_merged['Сальдо'] = df_merged['Плановая выручка'] - df_merged['Сумма платежа']"
      ]
    },
    {
      "cell_type": "code",
      "execution_count": null,
      "id": "44717d34",
      "metadata": {
        "id": "44717d34",
        "outputId": "ebec4c93-983e-4464-8694-5a76ce3adead"
      },
      "outputs": [
        {
          "name": "stdout",
          "output_type": "stream",
          "text": [
            "        ИД дома  ИД подъезда  ИД квартиры  Лицевой счет (ЛС)  Услуга  \\\n",
            "0           100         1624        43036              43036  ТО МКД   \n",
            "1           100         1624        43036              43036  ТО МКД   \n",
            "2           100         1624        43036              43036  ТО МКД   \n",
            "3           100         1624        43036              43036  ТО МКД   \n",
            "4           100         1624        43037              43037  ТО МКД   \n",
            "...         ...          ...          ...                ...     ...   \n",
            "415907     5219         1884        49535              49075  ТО МКД   \n",
            "415908     5219         1884        49535              49075  ТО МКД   \n",
            "415909     5219         1884        49535              49075  ТО МКД   \n",
            "415910     5219         1884        49535              49075  ТО МКД   \n",
            "415911     5219         1884        49535              49075  ТО МКД   \n",
            "\n",
            "        Ставка тарифа Статус услуги Дата начала услуги  Плановая выручка  \\\n",
            "0                 5.2       Активна         2008-01-23           30253.6   \n",
            "1                 5.2       Активна         2008-01-23           30253.6   \n",
            "2                 5.2       Активна         2008-01-23           30253.6   \n",
            "3                 5.2       Активна         2008-01-23           30253.6   \n",
            "4                 5.4       Активна         2008-01-23           31417.2   \n",
            "...               ...           ...                ...               ...   \n",
            "415907            5.2       Активна         2019-03-28            9027.2   \n",
            "415908            5.2       Активна         2019-03-28            9027.2   \n",
            "415909            5.2       Активна         2019-03-28            9027.2   \n",
            "415910            5.2       Активна         2019-03-28            9027.2   \n",
            "415911            5.2       Активна         2019-03-28            9027.2   \n",
            "\n",
            "             ЛС  Сумма платежа Дата загрузки Источник платежа  \\\n",
            "0       43036.0            NaN      3/2/2018  Ввод из реестра   \n",
            "1       43036.0            NaN     2/15/2019  Ввод из реестра   \n",
            "2       43036.0           60.0    12/18/2019  Ввод из реестра   \n",
            "3       43036.0            NaN     12/8/2020  Ввод из реестра   \n",
            "4       43037.0            NaN      5/6/2019  Ввод из реестра   \n",
            "...         ...            ...           ...              ...   \n",
            "415907  49075.0            NaN     4/10/2019  Ввод из реестра   \n",
            "415908  49075.0            NaN     9/14/2020  Ввод из реестра   \n",
            "415909  49075.0            NaN    11/18/2020  Ввод из реестра   \n",
            "415910  49075.0           30.0     5/20/2020  Ввод из реестра   \n",
            "415911  49075.0            NaN     2/25/2021  Ввод из реестра   \n",
            "\n",
            "          способ оплаты Комментарий к платежу   Сальдо  \n",
            "0               КС банк                   NaN      NaN  \n",
            "1               КС банк                   NaN      NaN  \n",
            "2               КС банк                   NaN  30193.6  \n",
            "3       Сбербанк России                   NaN      NaN  \n",
            "4       Сбербанк России                   NaN      NaN  \n",
            "...                 ...                   ...      ...  \n",
            "415907  Сбербанк России                   NaN      NaN  \n",
            "415908  Сбербанк России                   NaN      NaN  \n",
            "415909  Сбербанк России                   NaN      NaN  \n",
            "415910  Сбербанк России                   NaN   8997.2  \n",
            "415911  Сбербанк России                   NaN      NaN  \n",
            "\n",
            "[415912 rows x 16 columns]\n"
          ]
        }
      ],
      "source": [
        "print (df_merged)"
      ]
    },
    {
      "cell_type": "markdown",
      "id": "1005a2ae",
      "metadata": {
        "id": "1005a2ae"
      },
      "source": [
        "посмотрим на новвю таблицу"
      ]
    },
    {
      "cell_type": "code",
      "execution_count": null,
      "id": "2934f2c4",
      "metadata": {
        "id": "2934f2c4"
      },
      "outputs": [],
      "source": [
        "df_merged.to_csv('C:/Users/admin/saldo_table.csv', index=False)"
      ]
    },
    {
      "cell_type": "code",
      "execution_count": null,
      "id": "183c2155",
      "metadata": {
        "id": "183c2155"
      },
      "outputs": [],
      "source": [
        "df = pd.read_csv('C:/Users/admin/saldo_table.csv')"
      ]
    },
    {
      "cell_type": "code",
      "execution_count": null,
      "id": "2efd2d20",
      "metadata": {
        "id": "2efd2d20",
        "outputId": "438f33b2-a677-4936-d170-05e9c1014f1b"
      },
      "outputs": [
        {
          "data": {
            "text/html": [
              "<div>\n",
              "<style scoped>\n",
              "    .dataframe tbody tr th:only-of-type {\n",
              "        vertical-align: middle;\n",
              "    }\n",
              "\n",
              "    .dataframe tbody tr th {\n",
              "        vertical-align: top;\n",
              "    }\n",
              "\n",
              "    .dataframe thead th {\n",
              "        text-align: right;\n",
              "    }\n",
              "</style>\n",
              "<table border=\"1\" class=\"dataframe\">\n",
              "  <thead>\n",
              "    <tr style=\"text-align: right;\">\n",
              "      <th></th>\n",
              "      <th>ИД дома</th>\n",
              "      <th>ИД подъезда</th>\n",
              "      <th>ИД квартиры</th>\n",
              "      <th>Лицевой счет (ЛС)</th>\n",
              "      <th>Услуга</th>\n",
              "      <th>Ставка тарифа</th>\n",
              "      <th>Статус услуги</th>\n",
              "      <th>Дата начала услуги</th>\n",
              "      <th>Плановая выручка</th>\n",
              "      <th>ЛС</th>\n",
              "      <th>Сумма платежа</th>\n",
              "      <th>Дата загрузки</th>\n",
              "      <th>Источник платежа</th>\n",
              "      <th>способ оплаты</th>\n",
              "      <th>Комментарий к платежу</th>\n",
              "      <th>Сальдо</th>\n",
              "    </tr>\n",
              "  </thead>\n",
              "  <tbody>\n",
              "    <tr>\n",
              "      <th>0</th>\n",
              "      <td>100</td>\n",
              "      <td>1624</td>\n",
              "      <td>43036</td>\n",
              "      <td>43036</td>\n",
              "      <td>ТО МКД</td>\n",
              "      <td>5.2</td>\n",
              "      <td>Активна</td>\n",
              "      <td>2008-01-23</td>\n",
              "      <td>30253.6</td>\n",
              "      <td>43036.0</td>\n",
              "      <td>NaN</td>\n",
              "      <td>3/2/2018</td>\n",
              "      <td>Ввод из реестра</td>\n",
              "      <td>КС банк</td>\n",
              "      <td>NaN</td>\n",
              "      <td>NaN</td>\n",
              "    </tr>\n",
              "    <tr>\n",
              "      <th>1</th>\n",
              "      <td>100</td>\n",
              "      <td>1624</td>\n",
              "      <td>43036</td>\n",
              "      <td>43036</td>\n",
              "      <td>ТО МКД</td>\n",
              "      <td>5.2</td>\n",
              "      <td>Активна</td>\n",
              "      <td>2008-01-23</td>\n",
              "      <td>30253.6</td>\n",
              "      <td>43036.0</td>\n",
              "      <td>NaN</td>\n",
              "      <td>2/15/2019</td>\n",
              "      <td>Ввод из реестра</td>\n",
              "      <td>КС банк</td>\n",
              "      <td>NaN</td>\n",
              "      <td>NaN</td>\n",
              "    </tr>\n",
              "    <tr>\n",
              "      <th>2</th>\n",
              "      <td>100</td>\n",
              "      <td>1624</td>\n",
              "      <td>43036</td>\n",
              "      <td>43036</td>\n",
              "      <td>ТО МКД</td>\n",
              "      <td>5.2</td>\n",
              "      <td>Активна</td>\n",
              "      <td>2008-01-23</td>\n",
              "      <td>30253.6</td>\n",
              "      <td>43036.0</td>\n",
              "      <td>60.0</td>\n",
              "      <td>12/18/2019</td>\n",
              "      <td>Ввод из реестра</td>\n",
              "      <td>КС банк</td>\n",
              "      <td>NaN</td>\n",
              "      <td>30193.6</td>\n",
              "    </tr>\n",
              "    <tr>\n",
              "      <th>3</th>\n",
              "      <td>100</td>\n",
              "      <td>1624</td>\n",
              "      <td>43036</td>\n",
              "      <td>43036</td>\n",
              "      <td>ТО МКД</td>\n",
              "      <td>5.2</td>\n",
              "      <td>Активна</td>\n",
              "      <td>2008-01-23</td>\n",
              "      <td>30253.6</td>\n",
              "      <td>43036.0</td>\n",
              "      <td>NaN</td>\n",
              "      <td>12/8/2020</td>\n",
              "      <td>Ввод из реестра</td>\n",
              "      <td>Сбербанк России</td>\n",
              "      <td>NaN</td>\n",
              "      <td>NaN</td>\n",
              "    </tr>\n",
              "    <tr>\n",
              "      <th>4</th>\n",
              "      <td>100</td>\n",
              "      <td>1624</td>\n",
              "      <td>43037</td>\n",
              "      <td>43037</td>\n",
              "      <td>ТО МКД</td>\n",
              "      <td>5.4</td>\n",
              "      <td>Активна</td>\n",
              "      <td>2008-01-23</td>\n",
              "      <td>31417.2</td>\n",
              "      <td>43037.0</td>\n",
              "      <td>NaN</td>\n",
              "      <td>5/6/2019</td>\n",
              "      <td>Ввод из реестра</td>\n",
              "      <td>Сбербанк России</td>\n",
              "      <td>NaN</td>\n",
              "      <td>NaN</td>\n",
              "    </tr>\n",
              "  </tbody>\n",
              "</table>\n",
              "</div>"
            ],
            "text/plain": [
              "   ИД дома  ИД подъезда  ИД квартиры  Лицевой счет (ЛС)  Услуга  \\\n",
              "0      100         1624        43036              43036  ТО МКД   \n",
              "1      100         1624        43036              43036  ТО МКД   \n",
              "2      100         1624        43036              43036  ТО МКД   \n",
              "3      100         1624        43036              43036  ТО МКД   \n",
              "4      100         1624        43037              43037  ТО МКД   \n",
              "\n",
              "   Ставка тарифа Статус услуги Дата начала услуги  Плановая выручка       ЛС  \\\n",
              "0            5.2       Активна         2008-01-23           30253.6  43036.0   \n",
              "1            5.2       Активна         2008-01-23           30253.6  43036.0   \n",
              "2            5.2       Активна         2008-01-23           30253.6  43036.0   \n",
              "3            5.2       Активна         2008-01-23           30253.6  43036.0   \n",
              "4            5.4       Активна         2008-01-23           31417.2  43037.0   \n",
              "\n",
              "   Сумма платежа Дата загрузки Источник платежа    способ оплаты  \\\n",
              "0            NaN      3/2/2018  Ввод из реестра          КС банк   \n",
              "1            NaN     2/15/2019  Ввод из реестра          КС банк   \n",
              "2           60.0    12/18/2019  Ввод из реестра          КС банк   \n",
              "3            NaN     12/8/2020  Ввод из реестра  Сбербанк России   \n",
              "4            NaN      5/6/2019  Ввод из реестра  Сбербанк России   \n",
              "\n",
              "  Комментарий к платежу   Сальдо  \n",
              "0                   NaN      NaN  \n",
              "1                   NaN      NaN  \n",
              "2                   NaN  30193.6  \n",
              "3                   NaN      NaN  \n",
              "4                   NaN      NaN  "
            ]
          },
          "execution_count": 80,
          "metadata": {},
          "output_type": "execute_result"
        }
      ],
      "source": [
        "df.head()"
      ]
    },
    {
      "cell_type": "markdown",
      "id": "3f97b6b4",
      "metadata": {
        "id": "3f97b6b4"
      },
      "source": [
        "Чтобы рассчитать для каждой квартиры частоту платежей и количество оплаченных тарифов а календарный год нужно еще раз подготовить данные."
      ]
    },
    {
      "cell_type": "code",
      "execution_count": null,
      "id": "c27de255",
      "metadata": {
        "id": "c27de255"
      },
      "outputs": [],
      "source": [
        "df_1 = pd.read_csv('C:/Users/admin/table_LS_new_7.csv')"
      ]
    },
    {
      "cell_type": "code",
      "execution_count": null,
      "id": "8cb7c452",
      "metadata": {
        "id": "8cb7c452"
      },
      "outputs": [],
      "source": [
        "df_1['Дата начала услуги'] = pd.to_datetime(df_1['Дата начала услуги'])"
      ]
    },
    {
      "cell_type": "markdown",
      "id": "a3dd64c5",
      "metadata": {
        "id": "a3dd64c5"
      },
      "source": [
        "для дальнейшей работы переименую столбец ЛС в \"Лицевой счет\" в таблице Лицевых счетов"
      ]
    },
    {
      "cell_type": "code",
      "execution_count": null,
      "id": "fc06c84a",
      "metadata": {
        "id": "fc06c84a"
      },
      "outputs": [],
      "source": [
        "df_1.rename(columns={'Лицевой счет (ЛС)': 'Лицевой счет'}, inplace=True)"
      ]
    },
    {
      "cell_type": "markdown",
      "id": "5d7e8c42",
      "metadata": {
        "id": "5d7e8c42"
      },
      "source": [
        "Приводим данные в столбцах 'Дата начала услуги' и 'Дата загрузки' к формату datetime"
      ]
    },
    {
      "cell_type": "code",
      "execution_count": null,
      "id": "1bd30adf",
      "metadata": {
        "id": "1bd30adf"
      },
      "outputs": [],
      "source": [
        "df_2 = pd.read_csv(\"C:/Users/admin/Desktop/тест/Tablica_plat.csv\")"
      ]
    },
    {
      "cell_type": "code",
      "execution_count": null,
      "id": "fc458af0",
      "metadata": {
        "id": "fc458af0"
      },
      "outputs": [],
      "source": [
        "df_2['Дата загрузки'] = pd.to_datetime(df_2['Дата загрузки'])"
      ]
    },
    {
      "cell_type": "markdown",
      "id": "cfc8fd7f",
      "metadata": {
        "id": "cfc8fd7f"
      },
      "source": [
        "и для дальнейшей работы нужно переименовать столбец ЛС в \"Лицевой счет\" в этой таблице"
      ]
    },
    {
      "cell_type": "code",
      "execution_count": null,
      "id": "0c698640",
      "metadata": {
        "id": "0c698640"
      },
      "outputs": [],
      "source": [
        "df_2.rename(columns={'ЛС': 'Лицевой счет'}, inplace=True)"
      ]
    },
    {
      "cell_type": "markdown",
      "id": "fe0b77ad",
      "metadata": {
        "id": "fe0b77ad"
      },
      "source": [
        "Приводим данные в столбце 'Сумма платежа' к числовому формату и заменяем запятую"
      ]
    },
    {
      "cell_type": "code",
      "execution_count": null,
      "id": "9ffd70ce",
      "metadata": {
        "id": "9ffd70ce"
      },
      "outputs": [],
      "source": [
        "df_2['Сумма платежа'] = df_2['Сумма платежа'].str.replace(',', '.')"
      ]
    },
    {
      "cell_type": "code",
      "execution_count": null,
      "id": "4337e1aa",
      "metadata": {
        "id": "4337e1aa"
      },
      "outputs": [],
      "source": [
        "df_2['Сумма платежа'] = pd.to_numeric(df_2['Сумма платежа'])"
      ]
    },
    {
      "cell_type": "markdown",
      "id": "44d43fbd",
      "metadata": {
        "id": "44d43fbd"
      },
      "source": [
        "Объединяем таблицы по столбцу 'Лицевой счет'"
      ]
    },
    {
      "cell_type": "code",
      "execution_count": null,
      "id": "d12a825a",
      "metadata": {
        "id": "d12a825a"
      },
      "outputs": [],
      "source": [
        "merged_df = pd.merge(df_1, df_2, on='Лицевой счет')"
      ]
    },
    {
      "cell_type": "markdown",
      "id": "0e3c8a1d",
      "metadata": {
        "id": "0e3c8a1d"
      },
      "source": [
        "Сгруппируем данные по 'ИД квартиры' и считаем частоту платежей и количество оплаченных тарифов за календарный год"
      ]
    },
    {
      "cell_type": "code",
      "execution_count": null,
      "id": "14396a77",
      "metadata": {
        "id": "14396a77"
      },
      "outputs": [],
      "source": [
        "result = merged_df.groupby('ИД квартиры').agg({'Сумма платежа': 'count', 'Дата начала услуги': 'nunique'})"
      ]
    },
    {
      "cell_type": "code",
      "execution_count": null,
      "id": "54d98732",
      "metadata": {
        "id": "54d98732",
        "outputId": "367675ce-ffca-40a9-e2c8-538becf6afa4"
      },
      "outputs": [
        {
          "name": "stdout",
          "output_type": "stream",
          "text": [
            "             Сумма платежа  Дата начала услуги\n",
            "ИД квартиры                                   \n",
            "1                       18                   3\n",
            "2                      100                   1\n",
            "3                       37                   1\n",
            "4                        4                   1\n",
            "5                       61                   1\n",
            "...                    ...                 ...\n",
            "49547                    1                   1\n",
            "49548                    9                   1\n",
            "49550                    1                   1\n",
            "49552                    1                   1\n",
            "49553                    1                   1\n",
            "\n",
            "[41382 rows x 2 columns]\n"
          ]
        }
      ],
      "source": [
        "print(result)"
      ]
    },
    {
      "cell_type": "markdown",
      "id": "d14508ac",
      "metadata": {
        "id": "d14508ac"
      },
      "source": [
        "В качестве других метрик для анализа платежной дисциплины абонентов за услуги я предлагаю разделить абонентов\n",
        "на тех кто платит в начале месяца и в конце месяца.\n",
        "Эта метрика может указывать на дисциплинированность абонетов. Можно применить такой код\n"
      ]
    },
    {
      "cell_type": "code",
      "execution_count": null,
      "id": "0d85e5e8",
      "metadata": {
        "id": "0d85e5e8"
      },
      "outputs": [],
      "source": [
        "df = pd.read_csv(\"C:/Users/admin/Desktop/тест/Tablica_plat.csv\")\n",
        "\n",
        "# Создать новый столбец \"Категория оплаты\"\n",
        "df['Категория оплаты'] = ''\n",
        "# Используя формулу или скрипт в этом новом столбце, определить категорию оплаты для каждой строки, основываясь на датах загрузки.\n",
        "#соответственно приведя даты к нужному формату\n",
        "df['Дата загрузки'] = pd.to_datetime(df['Дата загрузки'])\n",
        "df.loc[df['Дата загрузки'].dt.day >= 25, 'Категория оплаты'] = 'Конец месяца'\n",
        "df.loc[df['Дата загрузки'].dt.day <= 5, 'Категория оплаты'] = 'Начало месяца'\n",
        "#далее сгруппировать абонентов по по категориям \"конец месяца\" и \"начало месяца\".\n",
        "grouped_df = df.groupby('Категория оплаты').agg({'ЛС': 'count'})\n"
      ]
    },
    {
      "cell_type": "code",
      "execution_count": null,
      "id": "a7446f90",
      "metadata": {
        "id": "a7446f90",
        "outputId": "23b1ca53-8bbf-43e0-d66f-360b2ed2017b"
      },
      "outputs": [
        {
          "name": "stdout",
          "output_type": "stream",
          "text": [
            "   ЛС Сумма платежа Дата загрузки Источник платежа    способ оплаты  \\\n",
            "0   1           4,8    2019-04-16      Ручной ввод             Офис   \n",
            "1   1          14,4    2018-10-17  Ввод из реестра  Сбербанк России   \n",
            "2   1          14,4    2019-01-21  Ввод из реестра          КС банк   \n",
            "3   1          32,4    2020-12-11  Ввод из реестра          КС банк   \n",
            "4   1          56,4    2018-02-09  Ввод из реестра          КС банк   \n",
            "\n",
            "  Комментарий к платежу Категория оплаты  \n",
            "0                   NaN                   \n",
            "1                   NaN                   \n",
            "2                   NaN                   \n",
            "3                   NaN                   \n",
            "4                   NaN                   \n"
          ]
        }
      ],
      "source": [
        "print(df.head())"
      ]
    },
    {
      "cell_type": "code",
      "execution_count": null,
      "id": "a6bf8dac",
      "metadata": {
        "id": "a6bf8dac",
        "outputId": "5377c171-f059-46d5-ae0c-5016cd07c711"
      },
      "outputs": [
        {
          "name": "stdout",
          "output_type": "stream",
          "text": [
            "                      ЛС\n",
            "Категория оплаты        \n",
            "                  229881\n",
            "Конец месяца      102122\n",
            "Начало месяца      24843\n"
          ]
        }
      ],
      "source": [
        "print(grouped_df)"
      ]
    },
    {
      "cell_type": "markdown",
      "id": "955e236c",
      "metadata": {
        "id": "955e236c"
      },
      "source": [
        "Визуализируем метрику сальдо"
      ]
    },
    {
      "cell_type": "code",
      "execution_count": null,
      "id": "724475f1",
      "metadata": {
        "id": "724475f1"
      },
      "outputs": [],
      "source": [
        "data = pd.read_csv('C:/Users/admin/saldo_table.csv')"
      ]
    },
    {
      "cell_type": "code",
      "execution_count": null,
      "id": "ec856566",
      "metadata": {
        "id": "ec856566",
        "outputId": "3fed6457-813d-48c9-efa1-681086d71ffa"
      },
      "outputs": [
        {
          "data": {
            "image/png": "[encoded data removed]",
            "text/plain": [
              "<Figure size 1000x600 with 1 Axes>"
            ]
          },
          "metadata": {},
          "output_type": "display_data"
        }
      ],
      "source": [
        "import matplotlib.pyplot as plt\n",
        "\n",
        "data['Дата загрузки'] = pd.to_datetime(data['Дата загрузки'])\n",
        "data['Сальдо'] = data['Плановая выручка'] - data['Сумма платежа']\n",
        "daily_saldo = data.groupby('Дата загрузки')['Сальдо'].sum()\n",
        "plt.figure(figsize=(10,6))\n",
        "plt.plot(daily_saldo.index, daily_saldo.values)\n",
        "plt.xlabel('Дата загрузки')\n",
        "plt.ylabel('Сальдо')\n",
        "plt.title('Динамика сальдо по дате загрузки')\n",
        "\n",
        "\n",
        "plt.show()"
      ]
    },
    {
      "cell_type": "code",
      "execution_count": null,
      "id": "efd722df",
      "metadata": {
        "id": "efd722df"
      },
      "outputs": [],
      "source": []
    }
  ],
  "metadata": {
    "kernelspec": {
      "display_name": "Python 3 (ipykernel)",
      "language": "python",
      "name": "python3"
    },
    "language_info": {
      "codemirror_mode": {
        "name": "ipython",
        "version": 3
      },
      "file_extension": ".py",
      "mimetype": "text/x-python",
      "name": "python",
      "nbconvert_exporter": "python",
      "pygments_lexer": "ipython3",
      "version": "3.9.13"
    },
    "colab": {
      "provenance": []
    }
  },
  "nbformat": 4,
  "nbformat_minor": 5
}